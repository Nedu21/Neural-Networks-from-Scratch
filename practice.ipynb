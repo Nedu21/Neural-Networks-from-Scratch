{
 "cells": [
  {
   "cell_type": "markdown",
   "id": "ed8fda56",
   "metadata": {},
   "source": [
    "To use this notebook, install the necessary packages by running the following command:  \n",
    "pip install numpy matplotlib nnfs"
   ]
  },
  {
   "cell_type": "code",
   "execution_count": 1,
   "id": "14c7346c",
   "metadata": {},
   "outputs": [],
   "source": [
    "import numpy as np\n",
    "import matplotlib.pyplot as plt\n",
    "import nnfs \n",
    "import math\n",
    "from nnfs.datasets import spiral_data \n",
    "from nnfs.datasets import vertical_data"
   ]
  },
  {
   "cell_type": "code",
   "execution_count": 2,
   "id": "81a1f672",
   "metadata": {},
   "outputs": [],
   "source": [
    "nnfs.init()"
   ]
  },
  {
   "cell_type": "code",
   "execution_count": 3,
   "id": "7b396a4b",
   "metadata": {},
   "outputs": [],
   "source": [
    "# Dense layer\n",
    "class Layer_Dense:\n",
    "    # Layer initialization\n",
    "    def __init__(self, n_inputs, n_neurons):\n",
    "        self.weights = 0.01 * np.random.randn(n_inputs, n_neurons)\n",
    "        self.biases = np.zeros((1, n_neurons))\n",
    "        \n",
    "    # Forward pass\n",
    "    def forward(self, inputs):\n",
    "        self.output = np.dot(inputs, self.weights) + self.biases"
   ]
  },
  {
   "cell_type": "code",
   "execution_count": 4,
   "id": "5b4db93e",
   "metadata": {},
   "outputs": [],
   "source": [
    "# ReLU activation layer\n",
    "class Activation_ReLU:\n",
    "    # Forward pass\n",
    "    def forward(self, inputs):\n",
    "        self.output = np.maximum(0, inputs)"
   ]
  },
  {
   "cell_type": "code",
   "execution_count": 5,
   "id": "92e530f1",
   "metadata": {},
   "outputs": [],
   "source": [
    "# Softmax activation layer\n",
    "class Activation_Softmax:\n",
    "    # Forward pass\n",
    "    def forward(self, input):\n",
    "        # Get unnormalized probabilities\n",
    "        exp_values = np.exp(input - np.max(input, axis=1, keepdims=True))\n",
    "        \n",
    "        # Normalize them for each sample\n",
    "        probabilities = exp_values / np.sum(exp_values, axis=1, keepdims=True)\n",
    "        \n",
    "        self.output = probabilities"
   ]
  },
  {
   "cell_type": "code",
   "execution_count": 6,
   "id": "7f1fe086",
   "metadata": {},
   "outputs": [],
   "source": [
    "# Common loss class\n",
    "class Loss:\n",
    "    # Calculates the data and regularization losses \n",
    "    # given model output and ground truth values \n",
    "    def calculate(self, output, y):\n",
    "        # Calculate sample losses\n",
    "        sample_losses = self.forward(output, y)\n",
    "        \n",
    "        # Calculate mean loss\n",
    "        data_loss = np.mean(sample_losses)\n",
    "        \n",
    "        # Return loss\n",
    "        return data_loss"
   ]
  },
  {
   "cell_type": "code",
   "execution_count": 7,
   "id": "3e366446",
   "metadata": {},
   "outputs": [],
   "source": [
    "# Cross entropy loss\n",
    "class Loss_CategoricalCrossentropy(Loss):\n",
    "    # Forward pass\n",
    "    def forward(self, y_pred, y_true):\n",
    "        # Number of samples in a batch\n",
    "        samples = len(y_pred)\n",
    "        \n",
    "        # Clip data to prevent division by 0\n",
    "        # Clip both sides to not drag mean towards any value\n",
    "        y_pred_clipped = np.clip(y_pred, 1e-7, 1 - 1e-7)\n",
    "        \n",
    "        # Probabilities for target values - only if categorical labels\n",
    "        # For sparse labels (y_true is a 1-D array of ints like [0,2,1]) this picks, for each sample i, the predicted probability for the correct class: y_pred_clipped[i, y_true[i]].\n",
    "        if len(y_true.shape) == 1:\n",
    "            correct_confidences = y_pred_clipped[range(samples), y_true]\n",
    "            \n",
    "        # Mask values - only for one-hot encoded labels\n",
    "        elif len(y_true.shape) == 2:\n",
    "            correct_confidences = np.sum(y_pred_clipped * y_true, axis=1)\n",
    "            \n",
    "        # Losses\n",
    "        negative_log_likelihoods = -np.log(correct_confidences)\n",
    "        return negative_log_likelihoods"
   ]
  },
  {
   "cell_type": "code",
   "execution_count": 8,
   "id": "453bbeaf",
   "metadata": {},
   "outputs": [],
   "source": [
    "# Create dataset\n",
    "# X, y = vertical_data(samples=100, classes=3)\n",
    "# Create dataset \n",
    "X, y = spiral_data(samples=100, classes=3)\n",
    "\n",
    "# Create model\n",
    "dense1 = Layer_Dense(2, 3)  # first dense layer, 2 inputs\n",
    "activation1 = Activation_ReLU()\n",
    "dense2 = Layer_Dense(3, 3)  # second dense layer, 3 inputs, 3 outputs\n",
    "activation2 = Activation_Softmax()\n",
    "# Create loss function\n",
    "loss_function = Loss_CategoricalCrossentropy()"
   ]
  },
  {
   "cell_type": "code",
   "execution_count": 9,
   "id": "60e89b7e",
   "metadata": {},
   "outputs": [],
   "source": [
    "# Helper variables \n",
    "lowest_loss = 9999999  # some initial value \n",
    "best_dense1_weights = dense1.weights.copy() \n",
    "best_dense1_biases = dense1.biases.copy() \n",
    "best_dense2_weights = dense2.weights.copy() \n",
    "best_dense2_biases = dense2.biases.copy() "
   ]
  },
  {
   "cell_type": "code",
   "execution_count": 10,
   "id": "016a685c",
   "metadata": {},
   "outputs": [
    {
     "name": "stdout",
     "output_type": "stream",
     "text": [
      "New set of weights found, iteration: 0 loss: 1.1008677 acc: 0.3333333333333333\n",
      "New set of weights found, iteration: 1 loss: 1.0994315 acc: 0.3333333333333333\n",
      "New set of weights found, iteration: 2 loss: 1.0991219 acc: 0.3333333333333333\n",
      "New set of weights found, iteration: 3 loss: 1.0986339 acc: 0.3333333333333333\n",
      "New set of weights found, iteration: 4 loss: 1.0986199 acc: 0.3333333333333333\n",
      "New set of weights found, iteration: 5 loss: 1.0984716 acc: 0.36333333333333334\n",
      "New set of weights found, iteration: 18 loss: 1.0983391 acc: 0.3333333333333333\n",
      "New set of weights found, iteration: 27 loss: 1.0982698 acc: 0.3333333333333333\n",
      "New set of weights found, iteration: 31 loss: 1.0982264 acc: 0.37333333333333335\n",
      "New set of weights found, iteration: 35 loss: 1.0979562 acc: 0.3333333333333333\n",
      "New set of weights found, iteration: 36 loss: 1.0977433 acc: 0.3433333333333333\n",
      "New set of weights found, iteration: 37 loss: 1.0976934 acc: 0.3333333333333333\n",
      "New set of weights found, iteration: 44 loss: 1.0975959 acc: 0.3466666666666667\n",
      "New set of weights found, iteration: 50 loss: 1.0973785 acc: 0.36333333333333334\n",
      "New set of weights found, iteration: 51 loss: 1.0959908 acc: 0.3566666666666667\n",
      "New set of weights found, iteration: 60 loss: 1.0959282 acc: 0.35333333333333333\n",
      "New set of weights found, iteration: 65 loss: 1.0954362 acc: 0.38333333333333336\n",
      "New set of weights found, iteration: 67 loss: 1.093989 acc: 0.4166666666666667\n",
      "New set of weights found, iteration: 71 loss: 1.0926254 acc: 0.37666666666666665\n",
      "New set of weights found, iteration: 79 loss: 1.0921575 acc: 0.35333333333333333\n",
      "New set of weights found, iteration: 94 loss: 1.0918257 acc: 0.4166666666666667\n",
      "New set of weights found, iteration: 101 loss: 1.0914664 acc: 0.38666666666666666\n",
      "New set of weights found, iteration: 102 loss: 1.0909607 acc: 0.38333333333333336\n",
      "New set of weights found, iteration: 103 loss: 1.0906307 acc: 0.35333333333333333\n",
      "New set of weights found, iteration: 106 loss: 1.089146 acc: 0.4166666666666667\n",
      "New set of weights found, iteration: 113 loss: 1.0891142 acc: 0.37666666666666665\n",
      "New set of weights found, iteration: 115 loss: 1.088237 acc: 0.36333333333333334\n",
      "New set of weights found, iteration: 120 loss: 1.0880404 acc: 0.39\n",
      "New set of weights found, iteration: 129 loss: 1.0874122 acc: 0.42333333333333334\n",
      "New set of weights found, iteration: 140 loss: 1.087239 acc: 0.4266666666666667\n",
      "New set of weights found, iteration: 157 loss: 1.0870038 acc: 0.42\n",
      "New set of weights found, iteration: 163 loss: 1.0870034 acc: 0.38666666666666666\n",
      "New set of weights found, iteration: 172 loss: 1.0862479 acc: 0.4266666666666667\n",
      "New set of weights found, iteration: 175 loss: 1.0861241 acc: 0.41\n",
      "New set of weights found, iteration: 179 loss: 1.0860893 acc: 0.3466666666666667\n",
      "New set of weights found, iteration: 186 loss: 1.0853186 acc: 0.37666666666666665\n",
      "New set of weights found, iteration: 190 loss: 1.0852811 acc: 0.42\n",
      "New set of weights found, iteration: 191 loss: 1.0846506 acc: 0.42\n",
      "New set of weights found, iteration: 203 loss: 1.0842136 acc: 0.42333333333333334\n",
      "New set of weights found, iteration: 204 loss: 1.084184 acc: 0.3566666666666667\n",
      "New set of weights found, iteration: 214 loss: 1.0837997 acc: 0.37666666666666665\n",
      "New set of weights found, iteration: 218 loss: 1.0836842 acc: 0.4166666666666667\n",
      "New set of weights found, iteration: 235 loss: 1.0836092 acc: 0.43333333333333335\n",
      "New set of weights found, iteration: 238 loss: 1.0832268 acc: 0.38666666666666666\n",
      "New set of weights found, iteration: 241 loss: 1.0831857 acc: 0.4033333333333333\n",
      "New set of weights found, iteration: 246 loss: 1.0826017 acc: 0.38333333333333336\n",
      "New set of weights found, iteration: 250 loss: 1.082576 acc: 0.4033333333333333\n",
      "New set of weights found, iteration: 254 loss: 1.0817988 acc: 0.38\n",
      "New set of weights found, iteration: 282 loss: 1.0817244 acc: 0.38\n",
      "New set of weights found, iteration: 286 loss: 1.0810702 acc: 0.41\n",
      "New set of weights found, iteration: 288 loss: 1.0806731 acc: 0.37333333333333335\n",
      "New set of weights found, iteration: 314 loss: 1.0806231 acc: 0.4066666666666667\n",
      "New set of weights found, iteration: 340 loss: 1.0803562 acc: 0.4\n",
      "New set of weights found, iteration: 578 loss: 1.0802591 acc: 0.4033333333333333\n",
      "New set of weights found, iteration: 630 loss: 1.0802449 acc: 0.4166666666666667\n",
      "New set of weights found, iteration: 877 loss: 1.0801865 acc: 0.4166666666666667\n",
      "New set of weights found, iteration: 901 loss: 1.0801494 acc: 0.43\n",
      "New set of weights found, iteration: 935 loss: 1.0800657 acc: 0.41333333333333333\n",
      "New set of weights found, iteration: 978 loss: 1.0799247 acc: 0.42\n",
      "New set of weights found, iteration: 1049 loss: 1.0798801 acc: 0.3933333333333333\n",
      "New set of weights found, iteration: 1092 loss: 1.0797858 acc: 0.38666666666666666\n",
      "New set of weights found, iteration: 1103 loss: 1.0795524 acc: 0.4033333333333333\n",
      "New set of weights found, iteration: 1159 loss: 1.0795078 acc: 0.39666666666666667\n",
      "New set of weights found, iteration: 1434 loss: 1.079379 acc: 0.41\n",
      "New set of weights found, iteration: 1944 loss: 1.0793691 acc: 0.42\n",
      "New set of weights found, iteration: 1967 loss: 1.0792985 acc: 0.4066666666666667\n",
      "New set of weights found, iteration: 3281 loss: 1.0792688 acc: 0.42\n",
      "New set of weights found, iteration: 4016 loss: 1.0792656 acc: 0.39666666666666667\n",
      "New set of weights found, iteration: 4309 loss: 1.0792212 acc: 0.4033333333333333\n",
      "New set of weights found, iteration: 5157 loss: 1.0791876 acc: 0.3933333333333333\n",
      "New set of weights found, iteration: 5415 loss: 1.0790575 acc: 0.39\n"
     ]
    }
   ],
   "source": [
    "for iteration in range(10001):\n",
    "    # Generate new sets of weights for the iteration\n",
    "    dense1.weights += 0.05 * np.random.randn(2, 3)\n",
    "    dense1.biases += 0.05 * np.random.randn(1, 3)\n",
    "    dense2.weights += 0.05 * np.random.randn(3, 3)\n",
    "    dense2.biases += 0.05 * np.random.randn(1, 3)\n",
    "\n",
    "    # Perform a forward pass of the training data through this layer\n",
    "    dense1.forward(X)\n",
    "    activation1.forward(dense1.output)\n",
    "    dense2.forward(activation1.output)\n",
    "    activation2.forward(dense2.output)\n",
    "    \n",
    "    # Perform a forward pass through loss function \n",
    "    # it takes the output of second dense layer here and returns loss\n",
    "    loss = loss_function.calculate(activation2.output, y)\n",
    "\n",
    "    # Calculate the accuracy from output of activation2 and target\n",
    "    prediction = np.argmax(activation2.output, axis=1)\n",
    "    accuracy = np.mean(prediction == y)\n",
    "    \n",
    "    # If loss is smaller - print and save weights and biases aside\n",
    "    if loss < lowest_loss:\n",
    "        print('New set of weights found, iteration:', iteration, 'loss:', loss, 'acc:', accuracy)\n",
    "        best_dense1_weights = dense1.weights.copy() \n",
    "        best_dense1_biases = dense1.biases.copy() \n",
    "        best_dense2_weights = dense2.weights.copy() \n",
    "        best_dense2_biases = dense2.biases.copy()\n",
    "        lowest_loss = loss\n",
    "    # Revert weights and biases\n",
    "    else:\n",
    "        dense1.weights = best_dense1_weights.copy() \n",
    "        dense1.biases = best_dense1_biases.copy() \n",
    "        dense2.weights = best_dense2_weights.copy() \n",
    "        dense2.biases = best_dense2_biases.copy()"
   ]
  },
  {
   "cell_type": "code",
   "execution_count": 11,
   "id": "6296d0d5",
   "metadata": {},
   "outputs": [
    {
     "data": {
      "image/png": "[encoded data removed]",
      "text/plain": [
       "<Figure size 640x480 with 1 Axes>"
      ]
     },
     "metadata": {},
     "output_type": "display_data"
    }
   ],
   "source": [
    "for i in range(-10, 11, 1):\n",
    "    relu = np.maximum(0, i)\n",
    "    plt.plot(i, relu, 'ro')"
   ]
  },
  {
   "cell_type": "code",
   "execution_count": 12,
   "id": "e33d7e2b",
   "metadata": {},
   "outputs": [
    {
     "data": {
      "image/png": "[encoded data removed]",
      "text/plain": [
       "<Figure size 640x480 with 1 Axes>"
      ]
     },
     "metadata": {},
     "output_type": "display_data"
    }
   ],
   "source": [
    "for i in range(-10, 11, 1):\n",
    "    sigmoid = 1 / (1 + np.exp(-i))\n",
    "    plt.plot(i, sigmoid, 'ro')"
   ]
  },
  {
   "cell_type": "code",
   "execution_count": 13,
   "id": "10397c8e",
   "metadata": {},
   "outputs": [
    {
     "data": {
      "image/png": "[encoded data removed]",
      "text/plain": [
       "<Figure size 640x480 with 1 Axes>"
      ]
     },
     "metadata": {},
     "output_type": "display_data"
    }
   ],
   "source": [
    "for i in range(-10, 11, 1):\n",
    "    tanh = (np.exp(i) - np.exp(-i)) / (np.exp(i) + np.exp(-i))\n",
    "    plt.plot(i, tanh, 'ro')"
   ]
  },
  {
   "cell_type": "code",
   "execution_count": null,
   "id": "4897d163",
   "metadata": {},
   "outputs": [],
   "source": []
  }
 ],
 "metadata": {
  "kernelspec": {
   "display_name": "myenv",
   "language": "python",
   "name": "python3"
  },
  "language_info": {
   "codemirror_mode": {
    "name": "ipython",
    "version": 3
   },
   "file_extension": ".py",
   "mimetype": "text/x-python",
   "name": "python",
   "nbconvert_exporter": "python",
   "pygments_lexer": "ipython3",
   "version": "3.10.18"
  }
 },
 "nbformat": 4,
 "nbformat_minor": 5
}
