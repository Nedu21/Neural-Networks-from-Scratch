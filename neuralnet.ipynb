{
 "cells": [
  {
   "cell_type": "markdown",
   "id": "ed8fda56",
   "metadata": {},
   "source": [
    "To use this notebook, install the necessary packages by running the following command:  \n",
    "pip install numpy matplotlib nnfs"
   ]
  },
  {
   "cell_type": "code",
   "execution_count": 1,
   "id": "14c7346c",
   "metadata": {},
   "outputs": [],
   "source": [
    "import numpy as np\n",
    "import matplotlib.pyplot as plt\n",
    "import nnfs \n",
    "from nnfs.datasets import spiral_data "
   ]
  },
  {
   "cell_type": "code",
   "execution_count": 2,
   "id": "81a1f672",
   "metadata": {},
   "outputs": [],
   "source": [
    "nnfs.init()"
   ]
  },
  {
   "cell_type": "code",
   "execution_count": 3,
   "id": "7b396a4b",
   "metadata": {},
   "outputs": [],
   "source": [
    "# Dense layer\n",
    "class Layer_Dense:\n",
    "    # Layer initialization\n",
    "    def __init__(self, n_inputs, n_neurons):\n",
    "        self.weights = 0.01 * np.random.randn(n_inputs, n_neurons)\n",
    "        self.biases = np.zeros((1, n_neurons))\n",
    "        \n",
    "    # Forward pass\n",
    "    def forward(self, inputs):\n",
    "        self.output = np.dot(inputs, self.weights) + self.biases"
   ]
  },
  {
   "cell_type": "code",
   "execution_count": 4,
   "id": "5b4db93e",
   "metadata": {},
   "outputs": [],
   "source": [
    "# ReLU activation layer\n",
    "class Activation_ReLU:\n",
    "    # Forward pass\n",
    "    def forward(self, inputs):\n",
    "        self.output = np.maximum(0, inputs)"
   ]
  },
  {
   "cell_type": "code",
   "execution_count": 5,
   "id": "92e530f1",
   "metadata": {},
   "outputs": [],
   "source": [
    "# Softmax activation layer\n",
    "class Activation_Softmax:\n",
    "    # Forward pass\n",
    "    def forward(self, input):\n",
    "        # Get unnormalized probabilities\n",
    "        exp_values = np.exp(input - np.max(input, axis=1, keepdims=True))\n",
    "        \n",
    "        # Normalize them for each sample\n",
    "        probabilities = exp_values / np.sum(exp_values, axis=1, keepdims=True)\n",
    "        \n",
    "        self.output = probabilities"
   ]
  },
  {
   "cell_type": "code",
   "execution_count": 6,
   "id": "adcd1248",
   "metadata": {},
   "outputs": [],
   "source": [
    "# Create dataset\n",
    "X, y = spiral_data(samples=100, classes=3)"
   ]
  },
  {
   "cell_type": "code",
   "execution_count": 7,
   "id": "76e0f60a",
   "metadata": {},
   "outputs": [
    {
     "name": "stdout",
     "output_type": "stream",
     "text": [
      "[[-0.01306527  0.01658131 -0.00118164]\n",
      " [-0.00680178  0.00666383 -0.0046072 ]]\n",
      " \n",
      "[[-0.01334258 -0.01346717  0.00693773]\n",
      " [-0.00159573 -0.00133702  0.01077744]\n",
      " [-0.01126826 -0.00730678 -0.0038488 ]]\n"
     ]
    }
   ],
   "source": [
    "# Create Dense layer with 2 input features and 3 output values \n",
    "dense1 = Layer_Dense(2, 3)\n",
    "print(dense1.weights)\n",
    "print(' ')\n",
    "\n",
    "# Create ReLU activation (to be used with dense layer)\n",
    "activation1 = Activation_ReLU()\n",
    "\n",
    "# Create second Dense layer with 3 input features (as we take output \n",
    "# of previous layer here) and 3 output values (output values) \n",
    "dense2 = Layer_Dense(3, 3)\n",
    "print(dense2.weights)\n",
    "\n",
    "# Create Softmax activation (to be used with Dense layer)\n",
    "activation2 = Activation_Softmax()"
   ]
  },
  {
   "cell_type": "code",
   "execution_count": 8,
   "id": "ad98f120",
   "metadata": {},
   "outputs": [
    {
     "name": "stdout",
     "output_type": "stream",
     "text": [
      "[[0.33333334 0.33333334 0.33333334]\n",
      " [0.3333332  0.3333332  0.33333364]\n",
      " [0.3333329  0.33333293 0.3333342 ]\n",
      " [0.3333326  0.33333263 0.33333477]\n",
      " [0.33333233 0.3333324  0.33333528]]\n"
     ]
    }
   ],
   "source": [
    "# Make a forward pass of our training data through this layer\n",
    "dense1.forward(X)\n",
    "\n",
    "# Make a forward pass through activation function \n",
    "# it takes the output of first dense layer here \n",
    "activation1.forward(dense1.output)\n",
    "\n",
    "# Make a forward pass through second Dense layer \n",
    "# it takes outputs of activation function of first layer as inputs \n",
    "dense2.forward(activation1.output)\n",
    "\n",
    "# Make a forward pass through activation function \n",
    "# it takes the output of second dense layer here \n",
    "activation2.forward(dense2.output)\n",
    "\n",
    "print(activation2.output[:5])  # Print first 5 outputs"
   ]
  },
  {
   "cell_type": "code",
   "execution_count": null,
   "id": "672b628f",
   "metadata": {},
   "outputs": [],
   "source": []
  }
 ],
 "metadata": {
  "kernelspec": {
   "display_name": "myenv",
   "language": "python",
   "name": "python3"
  },
  "language_info": {
   "codemirror_mode": {
    "name": "ipython",
    "version": 3
   },
   "file_extension": ".py",
   "mimetype": "text/x-python",
   "name": "python",
   "nbconvert_exporter": "python",
   "pygments_lexer": "ipython3",
   "version": "3.10.18"
  }
 },
 "nbformat": 4,
 "nbformat_minor": 5
}
